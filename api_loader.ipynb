{
 "cells": [
  {
   "cell_type": "markdown",
   "metadata": {},
   "source": [
    "# API Loader"
   ]
  },
  {
   "cell_type": "code",
   "execution_count": null,
   "metadata": {},
   "outputs": [],
   "source": [
    "import os\n",
    "import sys\n",
    "\n",
    "project_root = os.path.abspath(os.path.join(os.getcwd(), '..', '..'))\n",
    "sys.path.append(project_root)"
   ]
  },
  {
   "cell_type": "code",
   "execution_count": null,
   "metadata": {},
   "outputs": [],
   "source": [
    "from api_loader import DataLoader\n",
    "\n",
    "import pandas as pd\n",
    "from datetime import datetime"
   ]
  },
  {
   "cell_type": "code",
   "execution_count": null,
   "metadata": {},
   "outputs": [],
   "source": [
    "symbol = \"BTCUSDT\"\n",
    "interval = \"1m\"\n",
    "\n",
    "# start = \"2024-06-23T03:00:00\"\n",
    "# end = \"2024-07-01T23:59:59\"\n",
    "start = \"2024-07-01\"\n",
    "end = datetime.utcnow().strftime(\"%Y-%m-%d\")"
   ]
  },
  {
   "cell_type": "code",
   "execution_count": null,
   "metadata": {},
   "outputs": [],
   "source": [
    "loader = DataLoader()\n",
    "data = loader.get_history(symbol, interval, start, end)\n",
    "data"
   ]
  },
  {
   "cell_type": "code",
   "execution_count": null,
   "metadata": {},
   "outputs": [],
   "source": [
    "def save_data_to_csv(df, symbol, interval, start, end):\n",
    "    start_date = pd.to_datetime(start).strftime(\"%Y%m%d\")\n",
    "    end_date = pd.to_datetime(end).strftime(\"%Y%m%d\")\n",
    "    file_name = f\"{symbol}({interval})_{start_date}_{end_date}.csv\"\n",
    "    \n",
    "    folder_path = os.path.join(project_root, \"data\", \"raw\")\n",
    "    os.makedirs(folder_path, exist_ok=True)\n",
    "\n",
    "    file_path = os.path.join(folder_path, file_name)\n",
    "    df.to_csv(file_path)\n",
    "    print(f\"Data saved to {file_path}\")\n"
   ]
  },
  {
   "cell_type": "code",
   "execution_count": null,
   "metadata": {},
   "outputs": [],
   "source": [
    "save_data_to_csv(data, symbol, interval, start, end)"
   ]
  },
  {
   "cell_type": "code",
   "execution_count": null,
   "metadata": {},
   "outputs": [],
   "source": []
  }
 ],
 "metadata": {
  "kernelspec": {
   "display_name": "condatest",
   "language": "python",
   "name": "condatest"
  },
  "language_info": {
   "codemirror_mode": {
    "name": "ipython",
    "version": 3
   },
   "file_extension": ".py",
   "mimetype": "text/x-python",
   "name": "python",
   "nbconvert_exporter": "python",
   "pygments_lexer": "ipython3",
   "version": "3.9.19"
  }
 },
 "nbformat": 4,
 "nbformat_minor": 2
}
